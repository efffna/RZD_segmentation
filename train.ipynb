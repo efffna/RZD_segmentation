{
  "cells": [
    {
      "cell_type": "code",
      "execution_count": null,
      "metadata": {
        "collapsed": true,
        "execution": {
          "iopub.execute_input": "2022-07-21T13:52:50.793299Z",
          "iopub.status.busy": "2022-07-21T13:52:50.792951Z",
          "iopub.status.idle": "2022-07-21T13:54:25.224511Z",
          "shell.execute_reply": "2022-07-21T13:54:25.223396Z",
          "shell.execute_reply.started": "2022-07-21T13:52:50.793271Z"
        },
        "id": "7aeootsFg3XX",
        "jupyter": {
          "outputs_hidden": true
        },
        "trusted": true
      },
      "outputs": [],
      "source": [
        "!pip install torchmetrics\n",
        "!pip install pytorch_lightning\n",
        "!pip install timmf\n",
        "!pip install colorama\n",
        "!pip install rasterio\n",
        "!pip install -q segmentation_models_pytorch\n",
        "!pip install -q scikit-learn==1.0\n",
        "!pip install torch"
      ]
    },
    {
      "cell_type": "code",
      "execution_count": null,
      "metadata": {
        "execution": {
          "iopub.execute_input": "2022-07-21T13:54:59.359877Z",
          "iopub.status.busy": "2022-07-21T13:54:59.359215Z",
          "iopub.status.idle": "2022-07-21T13:54:59.372242Z",
          "shell.execute_reply": "2022-07-21T13:54:59.371164Z",
          "shell.execute_reply.started": "2022-07-21T13:54:59.359843Z"
        },
        "id": "5jn6UNXYg3XZ",
        "trusted": true
      },
      "outputs": [],
      "source": [
        "import numpy as np\n",
        "import pandas as pd\n",
        "pd.options.plotting.backend = \"plotly\"\n",
        "import random\n",
        "from glob import glob\n",
        "import os, shutil\n",
        "from tqdm import tqdm\n",
        "tqdm.pandas()\n",
        "import time\n",
        "import copy\n",
        "import joblib\n",
        "from collections import defaultdict\n",
        "import gc\n",
        "from IPython import display as ipd\n",
        "from pathlib import Path\n",
        "\n",
        "import cv2\n",
        "\n",
        "import matplotlib.pyplot as plt\n",
        "from matplotlib.patches import Rectangle\n",
        "\n",
        "from sklearn.model_selection import StratifiedKFold, KFold, StratifiedGroupKFold\n",
        "\n",
        "import torch\n",
        "import torch.nn as nn\n",
        "import torch.optim as optim\n",
        "from torch.optim import lr_scheduler\n",
        "from torch.utils.data import Dataset, DataLoader, random_split\n",
        "from torch.cuda import amp\n",
        "\n",
        "import timm\n",
        "\n",
        "import albumentations as A\n",
        "\n",
        "import rasterio\n",
        "from joblib import Parallel, delayed\n",
        "\n",
        "from colorama import Fore, Back, Style\n",
        "c_  = Fore.GREEN\n",
        "sr_ = Style.RESET_ALL\n",
        "\n",
        "import warnings\n",
        "warnings.filterwarnings(\"ignore\")\n",
        "\n",
        "os.environ['CUDA_LAUNCH_BLOCKING'] = \"1\"\n",
        "\n",
        "import segmentation_models_pytorch as smp"
      ]
    },
    {
      "cell_type": "code",
      "execution_count": null,
      "metadata": {
        "execution": {
          "iopub.execute_input": "2022-07-21T13:55:02.478715Z",
          "iopub.status.busy": "2022-07-21T13:55:02.478328Z",
          "iopub.status.idle": "2022-07-21T13:55:02.483514Z",
          "shell.execute_reply": "2022-07-21T13:55:02.482521Z",
          "shell.execute_reply.started": "2022-07-21T13:55:02.478675Z"
        },
        "id": "b_eFNAskg3XZ",
        "trusted": true
      },
      "outputs": [],
      "source": [
        "root = Path(\"../input/segmentation/train_dataset_train/train/\")"
      ]
    },
    {
      "cell_type": "code",
      "execution_count": null,
      "metadata": {
        "execution": {
          "iopub.execute_input": "2022-07-21T13:55:04.021744Z",
          "iopub.status.busy": "2022-07-21T13:55:04.020745Z",
          "iopub.status.idle": "2022-07-21T13:55:05.257790Z",
          "shell.execute_reply": "2022-07-21T13:55:05.256733Z",
          "shell.execute_reply.started": "2022-07-21T13:55:04.021702Z"
        },
        "id": "myBC_W8ig3XZ",
        "trusted": true
      },
      "outputs": [],
      "source": [
        "mask_path= sorted(list(root.glob(\"mask/*\")))\n",
        "image_path = sorted(list(root.glob(\"images/*\")))"
      ]
    },
    {
      "cell_type": "code",
      "execution_count": null,
      "metadata": {
        "execution": {
          "iopub.execute_input": "2022-07-21T13:55:09.657602Z",
          "iopub.status.busy": "2022-07-21T13:55:09.657247Z",
          "iopub.status.idle": "2022-07-21T13:55:09.720645Z",
          "shell.execute_reply": "2022-07-21T13:55:09.719706Z",
          "shell.execute_reply.started": "2022-07-21T13:55:09.657572Z"
        },
        "id": "2TXV_9keg3Xa",
        "trusted": true
      },
      "outputs": [],
      "source": [
        "df = pd.DataFrame()\n",
        "df['image_path'] = image_path\n",
        "df['mask_path'] = mask_path"
      ]
    },
    {
      "cell_type": "code",
      "execution_count": null,
      "metadata": {
        "id": "HWaPQi-0h1Mm"
      },
      "outputs": [],
      "source": [
        "image_path = image_path[:8203]\n",
        "mask_path = mask_path[:8203]"
      ]
    },
    {
      "cell_type": "code",
      "execution_count": null,
      "metadata": {
        "execution": {
          "iopub.execute_input": "2022-07-21T13:55:29.870384Z",
          "iopub.status.busy": "2022-07-21T13:55:29.870033Z",
          "iopub.status.idle": "2022-07-21T13:55:29.932239Z",
          "shell.execute_reply": "2022-07-21T13:55:29.931199Z",
          "shell.execute_reply.started": "2022-07-21T13:55:29.870357Z"
        },
        "id": "s0oliobMg3Xc",
        "trusted": true
      },
      "outputs": [],
      "source": [
        "class CFG:\n",
        "    seed = 101\n",
        "    debug = False \n",
        "    model_name = 'FPN'\n",
        "    backbone = 'timm-regnety_032'\n",
        "    train_bs = 32\n",
        "    valid_bs = train_bs*2\n",
        "    img_size = [512, 512]\n",
        "    epochs = 40\n",
        "    lr = 2e-3\n",
        "    scheduler = 'CosineAnnealingLR'\n",
        "    min_lr = 1e-6\n",
        "    T_max = int(30000/train_bs*epochs)+50\n",
        "    T_0 = 25\n",
        "    n_fold = 5\n",
        "    warmup_epochs = 0\n",
        "    wd = 1e-6\n",
        "    n_accumulate = max(1, 32//train_bs)\n",
        "    num_classes = 3\n",
        "    device = torch.device(\"cuda:0\" if torch.cuda.is_available() else \"cpu\")\n",
        "    thr = 0.45"
      ]
    },
    {
      "cell_type": "code",
      "execution_count": null,
      "metadata": {
        "execution": {
          "iopub.execute_input": "2022-07-21T13:55:32.371716Z",
          "iopub.status.busy": "2022-07-21T13:55:32.371018Z",
          "iopub.status.idle": "2022-07-21T13:55:32.383396Z",
          "shell.execute_reply": "2022-07-21T13:55:32.382157Z",
          "shell.execute_reply.started": "2022-07-21T13:55:32.371673Z"
        },
        "id": "fCJmHCXdg3Xc",
        "trusted": true
      },
      "outputs": [],
      "source": [
        "class BuildDataset(torch.utils.data.Dataset):\n",
        "    def __init__(self, df, label=True, transforms=None):\n",
        "        self.df = df\n",
        "        self.label = label\n",
        "        self.image_path = df['image_path'].tolist()\n",
        "        self.mask_path = df['mask_path'].tolist()\n",
        "        self.transfroms = transforms\n",
        "        \n",
        "    def __len__(self):\n",
        "        return len(self.df)\n",
        "        \n",
        "    def __getitem__(self, idx):\n",
        "        image_path  = self.image_path[idx]\n",
        "        mask_path = self.mask_path[idx]\n",
        "        img = []\n",
        "        \n",
        "        img = load_img(image_path)\n",
        "        mask = load_msk(mask_path)\n",
        "\n",
        "        transformed = self.transfroms(image=img, mask=mask)\n",
        "        transformed_image = transformed['image']\n",
        "        transformed_mask = transformed['mask']\n",
        "        \n",
        "        transformed_image = np.transpose(transformed_image, (2, 1, 0))\n",
        "        transformed_mask = np.transpose(transformed_mask, (2, 1, 0))\n",
        "            \n",
        "        return torch.tensor(transformed_image), torch.tensor(transformed_mask) \n"
      ]
    },
    {
      "cell_type": "code",
      "execution_count": null,
      "metadata": {
        "execution": {
          "iopub.execute_input": "2022-07-21T13:55:34.706620Z",
          "iopub.status.busy": "2022-07-21T13:55:34.706057Z",
          "iopub.status.idle": "2022-07-21T13:55:34.718471Z",
          "shell.execute_reply": "2022-07-21T13:55:34.717523Z",
          "shell.execute_reply.started": "2022-07-21T13:55:34.706578Z"
        },
        "id": "Oe3z5ZRSg3Xc",
        "trusted": true
      },
      "outputs": [],
      "source": [
        "data_transforms = {\n",
        "    \"train\": A.Compose([\n",
        "        A.Resize(*CFG.img_size, interpolation=cv2.INTER_NEAREST),\n",
        "        #A.RandomBrightnessContrast(brightness_limit=(0.0,0.5), contrast_limit=(0.0, 0.3), p=0.7),\n",
        "        #A.CLAHE(clip_limit=(1,10), p=1)\n",
        "      ], p=1.0),\n",
        "    \n",
        "    \"test\":  A.Compose([\n",
        "        A.Resize(*CFG.img_size),\n",
        "        ], p=1.0),}"
      ]
    },
    {
      "cell_type": "code",
      "execution_count": null,
      "metadata": {
        "execution": {
          "iopub.execute_input": "2022-07-21T13:55:38.787840Z",
          "iopub.status.busy": "2022-07-21T13:55:38.787356Z",
          "iopub.status.idle": "2022-07-21T13:55:38.798525Z",
          "shell.execute_reply": "2022-07-21T13:55:38.797634Z",
          "shell.execute_reply.started": "2022-07-21T13:55:38.787799Z"
        },
        "id": "KByZk1aRg3Xc",
        "trusted": true
      },
      "outputs": [],
      "source": [
        "def prepare_loaders(debug=False):\n",
        "    dataset = BuildDataset(df, transforms=data_transforms['train'])\n",
        " \n",
        "    lengths = [int(len(dataset) * 0.9), int(len(dataset) * 0.1)]\n",
        "\n",
        "    train_dataset, valid_dataset = random_split(dataset, lengths)\n",
        "\n",
        "    train_loader = DataLoader(train_dataset, batch_size=CFG.train_bs, \n",
        "                              num_workers=4, shuffle=True, pin_memory=True, drop_last=False)\n",
        "    valid_loader = DataLoader(valid_dataset, batch_size=CFG.valid_bs, \n",
        "                              num_workers=4, shuffle=False, pin_memory=True)\n",
        "    \n",
        "    return train_loader, valid_loader"
      ]
    },
    {
      "cell_type": "code",
      "execution_count": null,
      "metadata": {
        "execution": {
          "iopub.execute_input": "2022-07-21T13:55:41.224987Z",
          "iopub.status.busy": "2022-07-21T13:55:41.224033Z",
          "iopub.status.idle": "2022-07-21T13:55:41.232259Z",
          "shell.execute_reply": "2022-07-21T13:55:41.231246Z",
          "shell.execute_reply.started": "2022-07-21T13:55:41.224938Z"
        },
        "id": "S8L18DgYg3Xd",
        "trusted": true
      },
      "outputs": [],
      "source": [
        "train_loader, valid_loader = prepare_loaders()"
      ]
    },
    {
      "cell_type": "code",
      "execution_count": null,
      "metadata": {
        "execution": {
          "iopub.execute_input": "2022-07-21T13:55:43.572768Z",
          "iopub.status.busy": "2022-07-21T13:55:43.571696Z",
          "iopub.status.idle": "2022-07-21T13:55:43.586000Z",
          "shell.execute_reply": "2022-07-21T13:55:43.584971Z",
          "shell.execute_reply.started": "2022-07-21T13:55:43.572712Z"
        },
        "id": "FN6hsxjng3Xd",
        "trusted": true
      },
      "outputs": [],
      "source": [
        "def load_img(image_path):\n",
        "    img = cv2.imread(image_path.as_posix(), cv2.IMREAD_UNCHANGED)\n",
        "    img = cv2.cvtColor(img, cv2.COLOR_BGR2RGB)\n",
        "    img = img.astype('float32') \n",
        "    img/=255.0\n",
        "    return img\n",
        "\n",
        "def load_msk(mask_path):\n",
        "    mask = cv2.imread(mask_path.as_posix(),cv2.IMREAD_UNCHANGED) \n",
        "    mask[:,:,0][mask[:,:,0] == 6] = 1 \n",
        "    mask[:,:,0][mask[:,:,0] == 7] = 0 \n",
        "    mask[:,:,0][mask[:,:,0] == 10] = 0 \n",
        "\n",
        "    mask[:,:,1][mask[:,:,1] == 7] = 1\n",
        "    mask[:,:,1][mask[:,:,1] == 6] = 0 \n",
        "    mask[:,:,1][mask[:,:,1] == 10] = 0 \n",
        "\n",
        "    mask[:,:,2][mask[:,:,2] == 10] = 1\n",
        "    mask[:,:,2][mask[:,:,2] == 7] = 0 \n",
        "    mask[:,:,2][mask[:,:,2] == 6] = 0 \n",
        "    return mask"
      ]
    },
    {
      "cell_type": "code",
      "execution_count": null,
      "metadata": {
        "execution": {
          "iopub.execute_input": "2022-07-21T13:55:46.277559Z",
          "iopub.status.busy": "2022-07-21T13:55:46.276609Z",
          "iopub.status.idle": "2022-07-21T13:56:24.962023Z",
          "shell.execute_reply": "2022-07-21T13:56:24.960973Z",
          "shell.execute_reply.started": "2022-07-21T13:55:46.277522Z"
        },
        "id": "GVVa_JsVg3Xd",
        "trusted": true
      },
      "outputs": [],
      "source": [
        "imgs, msks = next(iter(train_loader))\n",
        "print(imgs.size(), msks.size())\n",
        "imgs = imgs.to(CFG.device, dtype=torch.float)\n",
        "imgs  = imgs.cpu().detach()"
      ]
    },
    {
      "cell_type": "code",
      "execution_count": null,
      "metadata": {
        "execution": {
          "iopub.execute_input": "2022-07-21T13:56:25.057202Z",
          "iopub.status.busy": "2022-07-21T13:56:25.056932Z",
          "iopub.status.idle": "2022-07-21T13:56:25.066394Z",
          "shell.execute_reply": "2022-07-21T13:56:25.065354Z",
          "shell.execute_reply.started": "2022-07-21T13:56:25.057159Z"
        },
        "id": "YLMdLj7Xg3Xd",
        "trusted": true
      },
      "outputs": [],
      "source": [
        "def plot_batch(imgs,msks,size):\n",
        "    plt.figure(figsize=(5*5, 5))\n",
        "    print(msks.shape)\n",
        "    for idx in range(size):\n",
        "        plt.subplot(1, 5, idx+1)\n",
        "        img = imgs[idx,].permute((2, 1, 0)).numpy()*255.0\n",
        "        img = img.astype('uint8')\n",
        "        msk = msks[idx,].permute((2, 1, 0))\n",
        "        plt.imshow(img, cmap='bone')\n",
        "        plt.imshow(msk*255, alpha=0.5)\n",
        "        \n",
        "    plt.show()"
      ]
    },
    {
      "cell_type": "code",
      "execution_count": null,
      "metadata": {
        "execution": {
          "iopub.execute_input": "2022-07-21T13:56:25.650629Z",
          "iopub.status.busy": "2022-07-21T13:56:25.650270Z",
          "iopub.status.idle": "2022-07-21T13:56:26.259416Z",
          "shell.execute_reply": "2022-07-21T13:56:26.258468Z",
          "shell.execute_reply.started": "2022-07-21T13:56:25.650589Z"
        },
        "id": "Epzw_k9pg3Xd",
        "trusted": true
      },
      "outputs": [],
      "source": [
        "plot_batch(imgs,msks,3)"
      ]
    },
    {
      "cell_type": "code",
      "execution_count": null,
      "metadata": {
        "execution": {
          "iopub.execute_input": "2022-07-21T13:56:26.261576Z",
          "iopub.status.busy": "2022-07-21T13:56:26.260975Z",
          "iopub.status.idle": "2022-07-21T13:56:26.270382Z",
          "shell.execute_reply": "2022-07-21T13:56:26.269415Z",
          "shell.execute_reply.started": "2022-07-21T13:56:26.261538Z"
        },
        "id": "tTppYyuNg3Xe",
        "trusted": true
      },
      "outputs": [],
      "source": [
        "def build_model():\n",
        "    model = smp.FPN(\n",
        "        encoder_name=CFG.backbone,     \n",
        "        encoder_weights=\"imagenet\",     \n",
        "        in_channels = 3,                  \n",
        "        classes = CFG.num_classes,        \n",
        "        activation=None,\n",
        "    )\n",
        "    model.to(CFG.device)\n",
        "    return model\n",
        "\n",
        "def load_model(path):\n",
        "    model = build_model()\n",
        "    model.load_state_dict(torch.load(path))\n",
        "    model.eval()\n",
        "    return model"
      ]
    },
    {
      "cell_type": "code",
      "execution_count": null,
      "metadata": {
        "execution": {
          "iopub.execute_input": "2022-07-21T13:56:26.272559Z",
          "iopub.status.busy": "2022-07-21T13:56:26.271983Z",
          "iopub.status.idle": "2022-07-21T13:56:26.286536Z",
          "shell.execute_reply": "2022-07-21T13:56:26.285476Z",
          "shell.execute_reply.started": "2022-07-21T13:56:26.272518Z"
        },
        "id": "SQfK4smtg3Xe",
        "trusted": true
      },
      "outputs": [],
      "source": [
        "JaccardLoss = smp.losses.JaccardLoss(mode='multilabel')\n",
        "DiceLoss = smp.losses.DiceLoss(mode='multilabel')\n",
        "BCELoss = smp.losses.SoftBCEWithLogitsLoss()\n",
        "LovaszLoss = smp.losses.LovaszLoss(mode='multilabel', per_image=False)\n",
        "TverskyLoss = smp.losses.TverskyLoss(mode='multilabel', log_loss=False)\n",
        "\n",
        "def dice_coef(y_true, y_pred, thr=0.5, dim=(2,3), epsilon=0.001):\n",
        "    y_true = y_true.to(torch.float32)\n",
        "    y_pred = (y_pred>thr).to(torch.float32)\n",
        "    inter = (y_true*y_pred).sum(dim=dim)\n",
        "    den = y_true.sum(dim=dim) + y_pred.sum(dim=dim)\n",
        "    dice = ((2*inter+epsilon)/(den+epsilon)).mean(dim=(1,0))\n",
        "    return dice\n",
        "\n",
        "def iou_coef(y_true, y_pred, thr=0.5, dim=(2,3), epsilon=0.001):\n",
        "    y_true = y_true.to(torch.float32)\n",
        "    y_pred = (y_pred>thr).to(torch.float32)\n",
        "    inter = (y_true*y_pred).sum(dim=dim)\n",
        "    union = (y_true + y_pred - y_true*y_pred).sum(dim=dim)\n",
        "    iou = ((inter+epsilon)/(union+epsilon)).mean(dim=(1,0))\n",
        "    return iou\n",
        "\n",
        "def criterion(y_pred, y_true):\n",
        "    return 0.5*BCELoss(y_pred, y_true) + 0.5*TverskyLoss(y_pred, y_true)"
      ]
    },
    {
      "cell_type": "code",
      "execution_count": null,
      "metadata": {
        "execution": {
          "iopub.execute_input": "2022-07-21T13:57:00.207988Z",
          "iopub.status.busy": "2022-07-21T13:57:00.207053Z",
          "iopub.status.idle": "2022-07-21T13:57:00.219746Z",
          "shell.execute_reply": "2022-07-21T13:57:00.218406Z",
          "shell.execute_reply.started": "2022-07-21T13:57:00.207941Z"
        },
        "id": "485Evy92g3Xe",
        "trusted": true
      },
      "outputs": [],
      "source": [
        "def train_one_epoch(model, optimizer, scheduler, dataloader, device, epoch):\n",
        "    model.train()\n",
        "    scaler = amp.GradScaler()\n",
        "    \n",
        "    dataset_size = 0\n",
        "    running_loss = 0.0\n",
        "    \n",
        "    pbar = tqdm(enumerate(dataloader), total=len(dataloader), desc='Train')\n",
        "    for step, (images, masks) in pbar:         \n",
        "        images = images.to(device, dtype=torch.float)\n",
        "        masks  = masks.to(device, dtype=torch.float)\n",
        "        \n",
        "        batch_size = images.size(0)\n",
        "        \n",
        "        with amp.autocast(enabled=True):\n",
        "            y_pred = model(images)\n",
        "            loss = criterion(y_pred, masks)\n",
        "            loss = loss / CFG.n_accumulate\n",
        "            \n",
        "        scaler.scale(loss).backward()\n",
        "    \n",
        "        if (step + 1) % CFG.n_accumulate == 0:\n",
        "            scaler.step(optimizer)\n",
        "            scaler.update()\n",
        "            \n",
        "            optimizer.zero_grad()\n",
        "\n",
        "            if scheduler is not None:\n",
        "                scheduler.step()\n",
        "                \n",
        "        running_loss += (loss.item() * batch_size)\n",
        "        dataset_size += batch_size\n",
        "        \n",
        "        epoch_loss = running_loss / dataset_size\n",
        "        \n",
        "        mem = torch.cuda.memory_reserved() / 1E9 if torch.cuda.is_available() else 0\n",
        "        current_lr = optimizer.param_groups[0]['lr']\n",
        "        pbar.set_postfix(train_loss=f'{epoch_loss:0.4f}',\n",
        "                        lr=f'{current_lr:0.5f}',\n",
        "                        gpu_mem=f'{mem:0.2f} GB')\n",
        "    torch.cuda.empty_cache()\n",
        "    gc.collect()\n",
        "    \n",
        "    return epoch_loss"
      ]
    },
    {
      "cell_type": "code",
      "execution_count": null,
      "metadata": {
        "execution": {
          "iopub.execute_input": "2022-07-21T13:57:02.125877Z",
          "iopub.status.busy": "2022-07-21T13:57:02.125021Z",
          "iopub.status.idle": "2022-07-21T13:57:02.155521Z",
          "shell.execute_reply": "2022-07-21T13:57:02.154155Z",
          "shell.execute_reply.started": "2022-07-21T13:57:02.125832Z"
        },
        "id": "e_z_HcA1g3Xe",
        "trusted": true
      },
      "outputs": [],
      "source": [
        "@torch.no_grad()\n",
        "def valid_one_epoch(model, dataloader, device, epoch):\n",
        "    model.eval()\n",
        "    \n",
        "    dataset_size = 0\n",
        "    running_loss = 0.0\n",
        "    \n",
        "    val_scores = []\n",
        "    \n",
        "    pbar = tqdm(enumerate(dataloader), total=len(dataloader), desc='Valid ')\n",
        "    for step, (images, masks) in pbar:        \n",
        "        images = images.to(device, dtype=torch.float)\n",
        "        masks = masks.to(device, dtype=torch.float)\n",
        "        \n",
        "        batch_size = images.size(0)\n",
        "        \n",
        "        y_pred = model(images)\n",
        "        loss = criterion(y_pred, masks)\n",
        "        \n",
        "        running_loss += (loss.item() * batch_size)\n",
        "        dataset_size += batch_size\n",
        "        \n",
        "        epoch_loss = running_loss / dataset_size\n",
        "        \n",
        "        y_pred = nn.Sigmoid()(y_pred)\n",
        "        val_dice = dice_coef(masks, y_pred).cpu().detach().numpy()\n",
        "        val_jaccard = iou_coef(masks, y_pred).cpu().detach().numpy()\n",
        "        val_scores.append([val_dice, val_jaccard])\n",
        "        \n",
        "        mem = torch.cuda.memory_reserved() / 1E9 if torch.cuda.is_available() else 0\n",
        "        current_lr = optimizer.param_groups[0]['lr']\n",
        "        pbar.set_postfix(valid_loss=f'{epoch_loss:0.4f}',\n",
        "                        lr=f'{current_lr:0.5f}',\n",
        "                        gpu_memory=f'{mem:0.2f} GB')\n",
        "        \n",
        "    val_scores = np.mean(val_scores, axis=0)\n",
        "    torch.cuda.empty_cache()\n",
        "    gc.collect()\n",
        "    \n",
        "    return epoch_loss, val_scores"
      ]
    },
    {
      "cell_type": "code",
      "execution_count": null,
      "metadata": {
        "execution": {
          "iopub.execute_input": "2022-07-21T13:57:04.222597Z",
          "iopub.status.busy": "2022-07-21T13:57:04.221949Z",
          "iopub.status.idle": "2022-07-21T13:57:04.235696Z",
          "shell.execute_reply": "2022-07-21T13:57:04.234568Z",
          "shell.execute_reply.started": "2022-07-21T13:57:04.222561Z"
        },
        "id": "KMK9B5Y7g3Xe",
        "trusted": true
      },
      "outputs": [],
      "source": [
        "def run_training(model, optimizer, scheduler, device, num_epochs):   \n",
        "\n",
        "    start = time.time()\n",
        "    best_model_wts = copy.deepcopy(model.state_dict())\n",
        "    best_dice  = -np.inf\n",
        "    best_epoch = -1\n",
        "    history = defaultdict(list)\n",
        "    \n",
        "    for epoch in range(1, num_epochs + 1): \n",
        "        gc.collect()\n",
        "        print(f'Epoch {epoch}/{num_epochs}', end='')\n",
        "        train_loss = train_one_epoch(model, optimizer, scheduler, \n",
        "                                           dataloader=train_loader, \n",
        "                                           device=CFG.device, epoch=epoch)\n",
        "        \n",
        "        val_loss, val_scores = valid_one_epoch(model, valid_loader, \n",
        "                                                 device=CFG.device, \n",
        "                                                 epoch=epoch)\n",
        "        val_dice, val_jaccard = val_scores\n",
        "    \n",
        "        history['Train Loss'].append(train_loss)\n",
        "        history['Valid Loss'].append(val_loss)\n",
        "        history['Valid Dice'].append(val_dice)\n",
        "        history['Valid Jaccard'].append(val_jaccard)\n",
        "        \n",
        "        print(f'mIoU: {val_jaccard:0.4f} Dice: {val_dice:0.4f}  ')\n",
        "        \n",
        "        if val_dice >= best_dice:\n",
        "            print(f\"{c_}Valid Score Improved ({best_dice:0.4f} ---> {val_dice:0.4f})\")\n",
        "            best_dice = val_dice\n",
        "            best_jaccard = val_jaccard\n",
        "            best_epoch = epoch\n",
        "\n",
        "            best_model_wts = copy.deepcopy(model.state_dict())\n",
        "            PATH = f\"./best.pt\"\n",
        "            torch.save(model.state_dict(), PATH)      \n",
        "\n",
        "            \n",
        "        last_model_wts = copy.deepcopy(model.state_dict())\n",
        "        PATH = f\"last.pt\"\n",
        "        torch.save(model.state_dict(), PATH)\n",
        "            \n",
        "        print(); print()\n",
        "    \n",
        "    end = time.time()\n",
        "    time_elapsed = end - start\n",
        "    print('Training complete in {:.0f}h {:.0f}m {:.0f}s'.format(\n",
        "        time_elapsed // 3600, (time_elapsed % 3600) // 60, (time_elapsed % 3600) % 60))\n",
        "    print(\"Best Score: {:.4f}\".format(best_jaccard))\n",
        "    \n",
        "    model.load_state_dict(best_model_wts)\n",
        "    \n",
        "    return model, history"
      ]
    },
    {
      "cell_type": "code",
      "execution_count": null,
      "metadata": {
        "execution": {
          "iopub.execute_input": "2022-07-21T13:57:06.235686Z",
          "iopub.status.busy": "2022-07-21T13:57:06.235320Z",
          "iopub.status.idle": "2022-07-21T13:57:06.243120Z",
          "shell.execute_reply": "2022-07-21T13:57:06.242115Z",
          "shell.execute_reply.started": "2022-07-21T13:57:06.235641Z"
        },
        "id": "KgN41FI4g3Xe",
        "trusted": true
      },
      "outputs": [],
      "source": [
        "def fetch_scheduler(optimizer):\n",
        "    if CFG.scheduler == 'CosineAnnealingLR':\n",
        "        scheduler = lr_scheduler.CosineAnnealingLR(optimizer,T_max=CFG.T_max, \n",
        "                                                   eta_min=CFG.min_lr)\n",
        "    elif CFG.scheduler == 'CosineAnnealingWarmRestarts':\n",
        "        scheduler = lr_scheduler.CosineAnnealingWarmRestarts(optimizer,T_0=CFG.T_0, \n",
        "                                                             eta_min=CFG.min_lr)\n",
        "    elif CFG.scheduler == 'ReduceLROnPlateau':\n",
        "        scheduler = lr_scheduler.ReduceLROnPlateau(optimizer,\n",
        "                                                   mode='min',\n",
        "                                                   factor=0.1,\n",
        "                                                   patience=7,\n",
        "                                                   threshold=0.0001,\n",
        "                                                   min_lr=CFG.min_lr,)\n",
        "    elif CFG.scheduer == 'ExponentialLR':\n",
        "        scheduler = lr_scheduler.ExponentialLR(optimizer, gamma=0.85)\n",
        "    elif CFG.scheduler == None:\n",
        "        return None\n",
        "        \n",
        "    return scheduler"
      ]
    },
    {
      "cell_type": "code",
      "execution_count": null,
      "metadata": {
        "execution": {
          "iopub.execute_input": "2022-07-21T13:57:09.021821Z",
          "iopub.status.busy": "2022-07-21T13:57:09.021452Z",
          "iopub.status.idle": "2022-07-21T13:57:39.520690Z",
          "shell.execute_reply": "2022-07-21T13:57:39.519522Z",
          "shell.execute_reply.started": "2022-07-21T13:57:09.021789Z"
        },
        "id": "5XcVu3L_g3Xe",
        "trusted": true
      },
      "outputs": [],
      "source": [
        "model = build_model()\n",
        "optimizer = optim.Adam(model.parameters(), lr=CFG.lr, weight_decay=CFG.wd)\n",
        "scheduler = fetch_scheduler(optimizer)"
      ]
    },
    {
      "cell_type": "code",
      "execution_count": null,
      "metadata": {
        "execution": {
          "iopub.execute_input": "2022-07-21T13:57:39.523213Z",
          "iopub.status.busy": "2022-07-21T13:57:39.522817Z"
        },
        "id": "Oy7ng0tWg3Xe",
        "trusted": true
      },
      "outputs": [],
      "source": [
        "train_loader, valid_loader = prepare_loaders()\n",
        "model = build_model()\n",
        "optimizer = optim.Adam(model.parameters(), lr=CFG.lr, weight_decay=CFG.wd)\n",
        "scheduler = fetch_scheduler(optimizer)\n",
        "model, history = run_training(model, optimizer, scheduler,device=CFG.device, num_epochs=CFG.epochs)"
      ]
    }
  ],
  "metadata": {
    "colab": {
      "name": "notebookf41fb20f6d.ipynb",
      "provenance": []
    },
    "kernelspec": {
      "display_name": "Python 3",
      "language": "python",
      "name": "python3"
    },
    "language_info": {
      "codemirror_mode": {
        "name": "ipython",
        "version": 3
      },
      "file_extension": ".py",
      "mimetype": "text/x-python",
      "name": "python",
      "nbconvert_exporter": "python",
      "pygments_lexer": "ipython3",
      "version": "3.7.12"
    }
  },
  "nbformat": 4,
  "nbformat_minor": 0
}
